{
 "cells": [
  {
   "cell_type": "markdown",
   "metadata": {},
   "source": [
    "# Generate response"
   ]
  },
  {
   "cell_type": "markdown",
   "metadata": {},
   "source": [
    "# Question answering using a search API and re-ranking\n",
    "\n",
    "Searching for relevant information can sometimes feel like looking for a needle in a haystack, but don’t despair, GPTs can actually do a lot of this work for us. In this guide we explore a way to augment existing search systems with various AI techniques, helping us sift through the noise.\n",
    "\n",
    "Two ways of retrieving information for GPT are:\n",
    "\n",
    "1. **Mimicking Human Browsing:** [GPT triggers a search](https://openai.com/blog/chatgpt-plugins#browsing), evaluates the results, and modifies the search query if necessary. It can also follow up on specific search results to form a chain of thought, much like a human user would do.\n",
    "2. **Retrieval with Embeddings:** Calculate [embeddings](https://platform.openai.com/docs/guides/embeddings) for your content and a user query, and then [retrieve the content](Question_answering_using_embeddings.ipynb) most related as measured by cosine similarity. This technique is [used heavily](https://blog.google/products/search/search-language-understanding-bert/) by search engines like Google.\n",
    "\n",
    "These approaches are both promising, but each has their shortcomings: the first one can be slow due to its iterative nature and the second one requires embedding your entire knowledge base in advance, continuously embedding new content and maintaining a vector database.\n",
    "\n",
    "By combining these approaches, and drawing inspiration from [re-ranking](https://www.sbert.net/examples/applications/retrieve_rerank/README.html) methods, we identify an approach that sits in the middle. **This approach can be implemented on top of any existing search system, like the Slack search API, or an internal ElasticSearch instance with private data**. Here’s how it works:\n",
    "\n",
    "![search_augmented_by_query_generation_and_embeddings_reranking.png](../images/search_rerank_answer.png)\n",
    "\n",
    "**Step 1: Search**\n",
    "\n",
    "1.  User asks a question.\n",
    "2.  GPT generates a list of potential queries.\n",
    "3.  Search queries are executed in parallel.\n",
    "\n",
    "**Step 2: Re-rank**\n",
    "\n",
    "1.  Embeddings for each result are used to calculate semantic similarity to a generated hypothetical ideal answer to the user question.\n",
    "2.  Results are ranked and filtered based on this similarity metric.\n",
    "\n",
    "**Step 3: Answer**\n",
    "\n",
    "1.  Given the top search results, the model generates an answer to the user’s question, including references and links.\n",
    "\n",
    "This hybrid approach offers relatively low latency and can be integrated into any existing search endpoint, without requiring the upkeep of a vector database. Let's dive into it! We will use the [News API](https://newsapi.org/) as an example domain to search over.\n",
    "\n",
    "## Setup\n",
    "\n",
    "In addition to your `OPENAI_API_KEY`, you'll have to include a `NEWS_API_KEY` in your environment. You can get an API key [here](https://newsapi.org/).\n"
   ]
  },
  {
   "cell_type": "code",
   "execution_count": null,
   "metadata": {},
   "outputs": [],
   "source": []
  },
  {
   "cell_type": "code",
   "execution_count": 9,
   "metadata": {},
   "outputs": [],
   "source": [
    "# Dependencies\n",
    "from datetime import date, timedelta  # date handling for fetching recent news\n",
    "from IPython import display  # for pretty printing\n",
    "import json  # for parsing the JSON api responses and model outputs\n",
    "from numpy import dot  # for cosine similarity\n",
    "import openai  # for using GPT and getting embeddings\n",
    "import os  # for loading environment variables\n",
    "import requests  # for making the API requests\n",
    "from tqdm.notebook import tqdm  # for printing progress bars\n",
    "\n",
    "# Load environment variables\n",
    "\n",
    "\n",
    "GPT_MODEL = \"gpt-3.5-turbo\"\n",
    "\n",
    "\n",
    "# Helper functions\n",
    "def json_gpt(input: str):\n",
    "    completion = openai.ChatCompletion.create(\n",
    "        model=GPT_MODEL,\n",
    "        messages=[\n",
    "            {\"role\": \"system\", \"content\": \"Output only valid JSON\"},\n",
    "            {\"role\": \"user\", \"content\": input},\n",
    "        ],\n",
    "        temperature=0.5,\n",
    "    )\n",
    "\n",
    "    text = completion.choices[0].message.content\n",
    "    parsed = json.loads(text)\n",
    "\n",
    "    return parsed\n",
    "\n",
    "\n",
    "def embeddings(input): \n",
    "    response = openai.Embedding.create(model=\"text-embedding-ada-002\", input=input)\n",
    "    return [data.embedding for data in response.data]\n",
    "from dotenv import load_dotenv\n",
    "load_dotenv()\n",
    "import os\n",
    "openai.api_key = os.getenv(\"OPENAI_API_KEY\")\n",
    "news_api_key = os.getenv(\"NEWS_API_KEY\")\n"
   ]
  },
  {
   "cell_type": "markdown",
   "metadata": {},
   "source": [
    "## 1. Search\n",
    "\n",
    "It all starts with a user question.\n"
   ]
  },
  {
   "cell_type": "code",
   "execution_count": 10,
   "metadata": {},
   "outputs": [
    {
     "name": "stdout",
     "output_type": "stream",
     "text": [
      "What factors make Vietnam an ideal destination for a visit?\n"
     ]
    }
   ],
   "source": [
    "# User asks a question\n",
    "# load the question\n",
    "file_path = \"data/final_transcript.txt\"\n",
    "with open(file_path, \"r\") as f:\n",
    "    final_transcript = f.read()\n",
    "USER_QUESTION = final_transcript\n",
    "print(USER_QUESTION)"
   ]
  },
  {
   "cell_type": "markdown",
   "metadata": {},
   "source": [
    "Now, in order to be as exhaustive as possible, we use the model to generate a list of diverse queries based on this question.\n"
   ]
  },
  {
   "cell_type": "code",
   "execution_count": 11,
   "metadata": {},
   "outputs": [
    {
     "data": {
      "text/plain": [
       "['factors that make Vietnam an ideal destination for a visit',\n",
       " 'reasons to visit Vietnam',\n",
       " 'why Vietnam is a great place to visit',\n",
       " 'advantages of visiting Vietnam',\n",
       " 'benefits of traveling to Vietnam',\n",
       " 'what makes Vietnam a must-visit destination',\n",
       " 'things that attract tourists to Vietnam',\n",
       " 'what sets Vietnam apart as a travel destination',\n",
       " 'why you should consider visiting Vietnam',\n",
       " 'top reasons to choose Vietnam for a vacation',\n",
       " 'what makes Vietnam special for travelers',\n",
       " 'unique aspects of Vietnam that make it an ideal destination',\n",
       " 'why Vietnam should be on your travel bucket list',\n",
       " 'What factors make Vietnam an ideal destination for a visit?']"
      ]
     },
     "execution_count": 11,
     "metadata": {},
     "output_type": "execute_result"
    }
   ],
   "source": [
    "QUERIES_INPUT = f\"\"\"\n",
    "You have access to a search API that returns recent news articles.\n",
    "Generate an array of search queries that are relevant to this question.\n",
    "Use a variation of related keywords for the queries, trying to be as general as possible.\n",
    "Include as many queries as you can think of, including and excluding terms.\n",
    "For example, include queries like ['keyword_1 keyword_2', 'keyword_1', 'keyword_2'].\n",
    "Be creative. The more queries you include, the more likely you are to find relevant results.\n",
    "\n",
    "User question: {USER_QUESTION}\n",
    "\n",
    "Format: {{\"queries\": [\"query_1\", \"query_2\", \"query_3\"]}}\n",
    "\"\"\"\n",
    "\n",
    "queries = json_gpt(QUERIES_INPUT)[\"queries\"]\n",
    "\n",
    "# Let's include the original question as well for good measure\n",
    "queries.append(USER_QUESTION)\n",
    "\n",
    "queries"
   ]
  },
  {
   "cell_type": "markdown",
   "metadata": {},
   "source": [
    "The queries look good, so let's run the searches.\n"
   ]
  },
  {
   "cell_type": "code",
   "execution_count": 12,
   "metadata": {},
   "outputs": [
    {
     "data": {
      "application/vnd.jupyter.widget-view+json": {
       "model_id": "ebcfba98569548dc8e59a797e5349221",
       "version_major": 2,
       "version_minor": 0
      },
      "text/plain": [
       "  0%|          | 0/14 [00:00<?, ?it/s]"
      ]
     },
     "metadata": {},
     "output_type": "display_data"
    },
    {
     "name": "stdout",
     "output_type": "stream",
     "text": [
      "Total number of articles: 90\n",
      "Top 5 articles of query 1: \n",
      "\n",
      "Title: Beijing Chagrined As U.S. And Vietnam Draw Closer.\n",
      "Description: Biden courts Hanoi in Washington’s battle with Beijing.  Vietnam is no ally, but it is cooperating for its own reasons.\n",
      "Content: US President Joe Biden attends a welcoming ceremony hosted by Vietnam's Communist Party General ... ...\n",
      "\n",
      "Title: A Tourist’s Guide to Love: Where to Watch & Stream Online\n",
      "Description: A Tourist’s Guide to Love tells the story of Amanda Riley, an uptight travel executive whose life is turned upside down when her long-time boyfriend decides to end their relationship. Left broken after losing the love of her life, Amanda decides to visit Viet…\n",
      "Content: A Tourists Guide to Love tells the story of Amanda Riley, an uptight travel executive whose life is ...\n",
      "\n",
      "Title: North Korea’s Kim Jong Un Arrives In Russia For Putin Summit\n",
      "Description: Kim, who traveled to Russia by armored train, is expected to discuss an arms deal with Moscow for its war in Ukraine.\n",
      "Content: North Korean leader Kim Jong Un arrived in Russia on Tuesday where he is set to meet with President ...\n",
      "\n",
      "Title: Vietnam Dissidents To Relocate to US Under Biden Administration Deal, Report Says\n",
      "Description: The reported expatriations shed some light on the compromises that preceded the landmark upgrade in the diplomatic partnership between Hanoi and Washington.\n",
      "Content: Advertisement\n",
      "On Monday, Reuters reported that two Vietnamese political activists are relocating to...\n",
      "\n",
      "Title: Here’s Where To Find The Best Street Food In The World\n",
      "Description: From Vietnam’s noodle soups to Sicily’s spleen sandwiches, these are the places to travel for the world's best street food.\n",
      "Content: Give me a street cart over a fine dining meal any day of the week, twice on Tuesdays and three times...\n",
      "\n"
     ]
    }
   ],
   "source": [
    "def search_news(\n",
    "    query: str,\n",
    "    news_api_key: str = news_api_key,\n",
    "    num_articles: int = 5,\n",
    "    from_datetime: str = \"2023-09-12\",  # the 2023 NBA finals were played in June 2023\n",
    "    to_datetime: str = \"2023-10-11\",\n",
    ") -> dict:\n",
    "    response = requests.get(\n",
    "        \"https://newsapi.org/v2/everything\",\n",
    "        params={\n",
    "            \"q\": query,\n",
    "            \"apiKey\": news_api_key,\n",
    "            \"pageSize\": num_articles,\n",
    "            \"sortBy\": \"relevancy\",\n",
    "            \"from\": from_datetime,\n",
    "            \"to\": to_datetime,\n",
    "        },\n",
    "    )\n",
    "\n",
    "    return response.json()\n",
    "\n",
    "\n",
    "articles = []\n",
    "\n",
    "for query in tqdm(queries):\n",
    "    if len(query) > 499:\n",
    "        continue\n",
    "    result = search_news(query)\n",
    "    if result[\"status\"] == \"ok\":\n",
    "        articles = articles + result[\"articles\"]\n",
    "    else:\n",
    "        raise Exception(result[\"message\"])\n",
    "\n",
    "# remove duplicates\n",
    "articles = list({article[\"url\"]: article for article in articles}.values())\n",
    "\n",
    "print(\"Total number of articles:\", len(articles))\n",
    "print(\"Top 5 articles of query 1:\", \"\\n\")\n",
    "\n",
    "for article in articles[0:5]:\n",
    "    print(\"Title:\", article[\"title\"])\n",
    "    print(\"Description:\", article[\"description\"])\n",
    "    print(\"Content:\", article[\"content\"][0:100] + \"...\")\n",
    "    print()\n"
   ]
  },
  {
   "cell_type": "markdown",
   "metadata": {},
   "source": [
    "As we can see, oftentimes, the search queries will return a large number of results, many of which are not relevant to the original question asked by the user. In order to improve the quality of the final answer, we use embeddings to re-rank and filter the results.\n",
    "\n",
    "## 2. Re-rank\n",
    "\n",
    "Drawing inspiration from [HyDE (Gao et al.)](https://arxiv.org/abs/2212.10496), we first generate a hypothetical ideal answer to rerank our compare our results against. This helps prioritize results that look like good answers, rather than those similar to our question. Here’s the prompt we use to generate our hypothetical answer.\n"
   ]
  },
  {
   "cell_type": "code",
   "execution_count": 13,
   "metadata": {},
   "outputs": [
    {
     "data": {
      "text/plain": [
       "'Vietnam is an ideal destination for a visit due to its rich history and cultural heritage. The country offers breathtaking landscapes, including stunning beaches, majestic mountains, and lush green rice fields. Famous landmarks such as NAME Temple and NAME Pagoda attract tourists from all over the world. Additionally, the delicious cuisine, known for its bold flavors and fresh ingredients, is a highlight of any trip to Vietnam. NAME, a renowned travel blogger, said that exploring the bustling streets of Hanoi and experiencing the vibrant nightlife in Ho Chi Minh City are must-do activities. Overall, Vietnam offers a unique blend of history, natural beauty, and culinary delights, making it a perfect destination for travelers seeking an unforgettable experience.'"
      ]
     },
     "execution_count": 13,
     "metadata": {},
     "output_type": "execute_result"
    }
   ],
   "source": [
    "HA_INPUT = f\"\"\"\n",
    "Generate a hypothetical answer to the user's question. This answer will be used to rank search results. \n",
    "Pretend you have all the information you need to answer, but don't use any actual facts. Instead, use placeholders\n",
    "like NAME did something, or NAME said something at PLACE. \n",
    "\n",
    "User question: {USER_QUESTION}\n",
    "\n",
    "Format: {{\"hypotheticalAnswer\": \"hypothetical answer text\"}}\n",
    "\"\"\"\n",
    "\n",
    "hypothetical_answer = json_gpt(HA_INPUT)[\"hypotheticalAnswer\"]\n",
    "\n",
    "hypothetical_answer\n"
   ]
  },
  {
   "cell_type": "markdown",
   "metadata": {},
   "source": [
    "Now, let's generate embeddings for the search results and the hypothetical answer. We then calculate the cosine distance between these embeddings, giving us a semantic similarity metric. Note that we can simply calculate the dot product in lieu of doing a full cosine similarity calculation since the OpenAI embeddings are returned normalized in our API.\n"
   ]
  },
  {
   "cell_type": "code",
   "execution_count": 14,
   "metadata": {},
   "outputs": [
    {
     "data": {
      "text/plain": [
       "[0.7896581313500436,\n",
       " 0.7608656435763905,\n",
       " 0.7256594750596086,\n",
       " 0.7848462334376771,\n",
       " 0.7885668112043219,\n",
       " 0.697278747846783,\n",
       " 0.6904954335834975,\n",
       " 0.7300791971384132,\n",
       " 0.653784992645879,\n",
       " 0.6709312284444438]"
      ]
     },
     "execution_count": 14,
     "metadata": {},
     "output_type": "execute_result"
    }
   ],
   "source": [
    "hypothetical_answer_embedding = embeddings(hypothetical_answer)[0]\n",
    "article_embeddings = embeddings(\n",
    "    [\n",
    "        f\"{article['title']} {article['description']} {article['content'][0:100]}\"\n",
    "        for article in articles\n",
    "    ]\n",
    ")\n",
    "\n",
    "# Calculate cosine similarity\n",
    "cosine_similarities = []\n",
    "for article_embedding in article_embeddings:\n",
    "    cosine_similarities.append(dot(hypothetical_answer_embedding, article_embedding))\n",
    "\n",
    "cosine_similarities[0:10]\n"
   ]
  },
  {
   "cell_type": "markdown",
   "metadata": {},
   "source": [
    "Finally, we use these similarity scores to sort and filter the results.\n"
   ]
  },
  {
   "cell_type": "code",
   "execution_count": 15,
   "metadata": {},
   "outputs": [
    {
     "name": "stdout",
     "output_type": "stream",
     "text": [
      "Top 5 articles: \n",
      "\n",
      "Title: Vietnam’s appeal proves strong for Korean visitors\n",
      "Description: Hanoi (VNA) – Attractive theme parks, stunning paradise-like beaches, and the highest peak in Indochina are just some of the reasons why more and more Korean tourists are flocking to Vietnam, accounting for up to 30% of the total foreign arrivals in the first…\n",
      "Content: More and more Korean tourists are flocking to Vietnam\n",
      "Hanoi (VNA) Attractive theme parks, stunning ...\n",
      "Score: 0.891133554372068\n",
      "\n",
      "Title: Tourism promotion takes flight in south for peak season\n",
      "Description: HCM City (VNA) – The tourism industry, accommodation establishments, and travel firms are focusing on innovating products and services and strengthening promotion activities to popularise Vietnam as the leading tourist destination in Southeast Asia and to con…\n",
      "Content: HCM City (VNA) The tourism industry, accommodation establishments, and travel firms are focusing on ...\n",
      "Score: 0.8707824494296448\n",
      "\n",
      "Title: Three most beautiful beaches on Phu Quoc island\n",
      "Description: Hanoi (VNA) - If you are searching for paradise, make sure Phu Quoc in Vietnam is on the top of your bucket list.\n",
      "Kem Beach: Like heaven on earth \n",
      "What makes Phu Quoc so special? Located off the coast of southern Vietnam in the Gulf of Thailand, this tropical…\n",
      "Content: Hanoi (VNA) - If you are searching for paradise, make sure Phu Quoc in Vietnam is on the top of your...\n",
      "Score: 0.853407505131307\n",
      "\n",
      "Title: You’ve Got To See This! The 24 Best Places To Travel In 2024\n",
      "Description: Almost everyone went somewhere this year, but there are still places to go. Lots of places. So what are the best destinations for travel in 2024?\n",
      "Content: Ha Long Bay, Vietnam, is one of the 24 top destinations for 2024.\n",
      "getty\n",
      "Almost everyone went somew...\n",
      "Score: 0.8202739539217352\n",
      "\n",
      "Title: Lotte Mall West Lake: Hanoi's first mega commercial complex - VnExpress International\n",
      "Description: Lotte mega-commercial complex, with the concept of \"A one-day trip in the city,\" aims to offer Vietnamese customers in Hanoi an exclusive shopping experience.\n",
      "Content: Lotte Shopping celebrated the official grand opening of Lotte Mall West Lake Hanoi on September 22, ...\n",
      "Score: 0.8073544451927701\n",
      "\n"
     ]
    }
   ],
   "source": [
    "scored_articles = zip(articles, cosine_similarities)\n",
    "\n",
    "# Sort articles by cosine similarity\n",
    "sorted_articles = sorted(scored_articles, key=lambda x: x[1], reverse=True)\n",
    "\n",
    "# Print top 5 articles\n",
    "print(\"Top 5 articles:\", \"\\n\")\n",
    "\n",
    "for article, score in sorted_articles[0:5]:\n",
    "    print(\"Title:\", article[\"title\"])\n",
    "    print(\"Description:\", article[\"description\"])\n",
    "    print(\"Content:\", article[\"content\"][0:100] + \"...\")\n",
    "    print(\"Score:\", score)\n",
    "    print()\n"
   ]
  },
  {
   "cell_type": "markdown",
   "metadata": {},
   "source": [
    "Awesome! These results look a lot more relevant to our original query. Now, let's use the top 5 results to generate a final answer.\n",
    "\n",
    "## 3. Answer\n"
   ]
  },
  {
   "cell_type": "code",
   "execution_count": 21,
   "metadata": {},
   "outputs": [
    {
     "data": {
      "text/markdown": [
       "Vietnam is becoming an increasingly popular destination for tourists, especially for Korean visitors. One reason for this is the country's attractive theme parks, stunning beaches, and the highest peak in Indochina. According to the search results, up to 30% of total foreign arrivals in Vietnam are Korean tourists. This article from Vietnam Plus provides more information on Vietnam's appeal to Korean visitors: [Vietnam’s appeal proves strong for Korean visitors](https://en.vietnamplus.vn/vietnams-appeal-proves-strong-for-korean-visitors/268833.vnp)\n",
       "\n",
       "Additionally, Vietnam is actively promoting its tourism industry and improving its products and services to establish itself as the leading tourist destination in Southeast Asia. The tourism industry, accommodation establishments, and travel firms are focusing on innovation and promotion activities. This article from Vietnam Plus highlights the efforts being made to promote tourism in Vietnam: [Tourism promotion takes flight in south for peak season](https://en.vietnamplus.vn/tourism-promotion-takes-flight-in-south-for-peak-season/267928.vnp)\n",
       "\n",
       "One of the top attractions in Vietnam is Phu Quoc island, which offers paradise-like beaches. Located off the coast of southern Vietnam in the Gulf of Thailand, Phu Quoc is considered a tropical paradise. This article from Vietnam Plus provides information on the three most beautiful beaches on Phu Quoc island: [Three most beautiful beaches on Phu Quoc island](https://en.vietnamplus.vn/three-most-beautiful-beaches-on-phu-quoc-island/267788.vnp)\n",
       "\n",
       "Overall, Vietnam offers a diverse range of attractions and experiences, making it an ideal destination for a visit. For more information on the best travel destinations in the future, you can refer to this Forbes article: [You’ve Got To See This! The 24 Best Places To Travel In 2024](https://www.forbes.com/sites/christopherelliott/2023/10/01/youve-got-to-see-this-the-24-best-places-to-travel-in-2024/)\n",
       "\n",
       "To enhance the shopping experience, Lotte Mall West Lake, Hanoi's first mega commercial complex, offers an exclusive shopping experience for Vietnamese customers. You can find more information about this complex in this article from VnExpress International: [Lotte Mall West Lake: Hanoi's first mega commercial complex](https://e.vnexpress.net/news/business/lotte-mall-west-lake-hanoi-s-first-mega-commercial-complex-4658902.html)"
      ],
      "text/plain": [
       "<IPython.core.display.Markdown object>"
      ]
     },
     "metadata": {},
     "output_type": "display_data"
    }
   ],
   "source": [
    "formatted_top_results = [\n",
    "    {\n",
    "        \"title\": article[\"title\"],\n",
    "        \"description\": article[\"description\"],\n",
    "        \"url\": article[\"url\"],\n",
    "    }\n",
    "    for article, _score in sorted_articles[0:5]\n",
    "]\n",
    "\n",
    "ANSWER_INPUT = f\"\"\"\n",
    "Generate an answer to the user's question based on the given search results. \n",
    "TOP_RESULTS: {formatted_top_results}\n",
    "USER_QUESTION: {USER_QUESTION}\n",
    "\n",
    "Include as much information as possible in the answer. Reference the relevant search result urls as markdown links.\n",
    "\"\"\"\n",
    "\n",
    "completion = openai.ChatCompletion.create(\n",
    "    model=GPT_MODEL,\n",
    "    messages=[{\"role\": \"user\", \"content\": ANSWER_INPUT}],\n",
    "    temperature=0.5,\n",
    "    stream=True,\n",
    ")\n",
    "\n",
    "text = \"\"\n",
    "for chunk in completion:\n",
    "    text += chunk.choices[0].delta.get(\"content\", \"\")\n",
    "    display.clear_output(wait=True)\n",
    "    display.display(display.Markdown(text))"
   ]
  }
 ],
 "metadata": {
  "kernelspec": {
   "display_name": ".venv",
   "language": "python",
   "name": "python3"
  },
  "language_info": {
   "codemirror_mode": {
    "name": "ipython",
    "version": 3
   },
   "file_extension": ".py",
   "mimetype": "text/x-python",
   "name": "python",
   "nbconvert_exporter": "python",
   "pygments_lexer": "ipython3",
   "version": "3.8.10"
  }
 },
 "nbformat": 4,
 "nbformat_minor": 2
}
