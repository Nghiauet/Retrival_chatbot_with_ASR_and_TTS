{
 "cells": [
  {
   "cell_type": "code",
   "execution_count": 16,
   "metadata": {},
   "outputs": [],
   "source": [
    "from typing import Sequence\n",
    "\n",
    "import google.cloud.texttospeech as tts\n",
    "base_dir = \"data/Google_tts\"\n",
    "\n",
    "def unique_languages_from_voices(voices: Sequence[tts.Voice]):\n",
    "    language_set = set()\n",
    "    for voice in voices:\n",
    "        for language_code in voice.language_codes:\n",
    "            language_set.add(language_code)\n",
    "    return language_set\n",
    "\n",
    "\n",
    "def list_languages():\n",
    "    client = tts.TextToSpeechClient()\n",
    "    response = client.list_voices()\n",
    "    languages = unique_languages_from_voices(response.voices)\n",
    "\n",
    "    print(f\" Languages: {len(languages)} \".center(60, \"-\"))\n",
    "    for i, language in enumerate(sorted(languages)):\n",
    "        print(f\"{language:>10}\", end=\"\\n\" if i % 5 == 4 else \"\")\n"
   ]
  },
  {
   "cell_type": "code",
   "execution_count": 17,
   "metadata": {},
   "outputs": [
    {
     "name": "stdout",
     "output_type": "stream",
     "text": [
      "---------------------- Languages: 57 -----------------------\n",
      "     af-ZA     ar-XA     bg-BG     bn-IN     ca-ES\n",
      "    cmn-CN    cmn-TW     cs-CZ     da-DK     de-DE\n",
      "     el-GR     en-AU     en-GB     en-IN     en-US\n",
      "     es-ES     es-US     eu-ES     fi-FI    fil-PH\n",
      "     fr-CA     fr-FR     gl-ES     gu-IN     he-IL\n",
      "     hi-IN     hu-HU     id-ID     is-IS     it-IT\n",
      "     ja-JP     kn-IN     ko-KR     lt-LT     lv-LV\n",
      "     ml-IN     mr-IN     ms-MY     nb-NO     nl-BE\n",
      "     nl-NL     pa-IN     pl-PL     pt-BR     pt-PT\n",
      "     ro-RO     ru-RU     sk-SK     sr-RS     sv-SE\n",
      "     ta-IN     te-IN     th-TH     tr-TR     uk-UA\n",
      "     vi-VN    yue-HK"
     ]
    }
   ],
   "source": [
    "list_languages()\n"
   ]
  },
  {
   "cell_type": "code",
   "execution_count": 18,
   "metadata": {},
   "outputs": [],
   "source": [
    "import google.cloud.texttospeech as tts\n",
    "\n",
    "\n",
    "def list_voices(language_code=None):\n",
    "    client = tts.TextToSpeechClient()\n",
    "    response = client.list_voices(language_code=language_code)\n",
    "    voices = sorted(response.voices, key=lambda voice: voice.name)\n",
    "\n",
    "    print(f\" Voices: {len(voices)} \".center(60, \"-\"))\n",
    "    for voice in voices:\n",
    "        languages = \", \".join(voice.language_codes)\n",
    "        name = voice.name\n",
    "        gender = tts.SsmlVoiceGender(voice.ssml_gender).name\n",
    "        rate = voice.natural_sample_rate_hertz\n",
    "        print(f\"{languages:<8} | {name:<24} | {gender:<8} | {rate:,} Hz\")\n"
   ]
  },
  {
   "cell_type": "code",
   "execution_count": 19,
   "metadata": {},
   "outputs": [
    {
     "name": "stdout",
     "output_type": "stream",
     "text": [
      "----------------------- Voices: 109 ------------------------\n",
      "en-AU    | en-AU-Neural2-A          | FEMALE   | 24,000 Hz\n",
      "en-AU    | en-AU-Neural2-B          | MALE     | 24,000 Hz\n",
      "en-AU    | en-AU-Neural2-C          | FEMALE   | 24,000 Hz\n",
      "en-AU    | en-AU-Neural2-D          | MALE     | 24,000 Hz\n",
      "en-AU    | en-AU-News-E             | FEMALE   | 24,000 Hz\n",
      "en-AU    | en-AU-News-F             | FEMALE   | 24,000 Hz\n",
      "en-AU    | en-AU-News-G             | MALE     | 24,000 Hz\n",
      "en-AU    | en-AU-Polyglot-1         | MALE     | 24,000 Hz\n",
      "en-AU    | en-AU-Standard-A         | FEMALE   | 24,000 Hz\n",
      "en-AU    | en-AU-Standard-A         | FEMALE   | 24,000 Hz\n",
      "en-AU    | en-AU-Standard-B         | MALE     | 24,000 Hz\n",
      "en-AU    | en-AU-Standard-B         | MALE     | 24,000 Hz\n",
      "en-AU    | en-AU-Standard-C         | FEMALE   | 24,000 Hz\n",
      "en-AU    | en-AU-Standard-C         | FEMALE   | 24,000 Hz\n",
      "en-AU    | en-AU-Standard-D         | MALE     | 24,000 Hz\n",
      "en-AU    | en-AU-Standard-D         | MALE     | 24,000 Hz\n",
      "en-AU    | en-AU-Wavenet-A          | FEMALE   | 24,000 Hz\n",
      "en-AU    | en-AU-Wavenet-B          | MALE     | 24,000 Hz\n",
      "en-AU    | en-AU-Wavenet-C          | FEMALE   | 24,000 Hz\n",
      "en-AU    | en-AU-Wavenet-D          | MALE     | 24,000 Hz\n",
      "en-GB    | en-GB-Neural2-A          | FEMALE   | 24,000 Hz\n",
      "en-GB    | en-GB-Neural2-B          | MALE     | 24,000 Hz\n",
      "en-GB    | en-GB-Neural2-C          | FEMALE   | 24,000 Hz\n",
      "en-GB    | en-GB-Neural2-D          | MALE     | 24,000 Hz\n",
      "en-GB    | en-GB-Neural2-F          | FEMALE   | 24,000 Hz\n",
      "en-GB    | en-GB-News-G             | FEMALE   | 24,000 Hz\n",
      "en-GB    | en-GB-News-H             | FEMALE   | 24,000 Hz\n",
      "en-GB    | en-GB-News-I             | FEMALE   | 24,000 Hz\n",
      "en-GB    | en-GB-News-J             | MALE     | 24,000 Hz\n",
      "en-GB    | en-GB-News-K             | MALE     | 24,000 Hz\n",
      "en-GB    | en-GB-News-L             | MALE     | 24,000 Hz\n",
      "en-GB    | en-GB-News-M             | MALE     | 24,000 Hz\n",
      "en-GB    | en-GB-Standard-A         | FEMALE   | 24,000 Hz\n",
      "en-GB    | en-GB-Standard-A         | FEMALE   | 24,000 Hz\n",
      "en-GB    | en-GB-Standard-B         | MALE     | 24,000 Hz\n",
      "en-GB    | en-GB-Standard-B         | MALE     | 24,000 Hz\n",
      "en-GB    | en-GB-Standard-C         | FEMALE   | 24,000 Hz\n",
      "en-GB    | en-GB-Standard-C         | FEMALE   | 24,000 Hz\n",
      "en-GB    | en-GB-Standard-D         | MALE     | 24,000 Hz\n",
      "en-GB    | en-GB-Standard-D         | MALE     | 24,000 Hz\n",
      "en-GB    | en-GB-Standard-F         | FEMALE   | 24,000 Hz\n",
      "en-GB    | en-GB-Standard-F         | FEMALE   | 24,000 Hz\n",
      "en-GB    | en-GB-Wavenet-A          | FEMALE   | 24,000 Hz\n",
      "en-GB    | en-GB-Wavenet-B          | MALE     | 24,000 Hz\n",
      "en-GB    | en-GB-Wavenet-C          | FEMALE   | 24,000 Hz\n",
      "en-GB    | en-GB-Wavenet-D          | MALE     | 24,000 Hz\n",
      "en-GB    | en-GB-Wavenet-F          | FEMALE   | 24,000 Hz\n",
      "en-IN    | en-IN-Neural2-A          | FEMALE   | 24,000 Hz\n",
      "en-IN    | en-IN-Neural2-B          | MALE     | 24,000 Hz\n",
      "en-IN    | en-IN-Neural2-C          | MALE     | 24,000 Hz\n",
      "en-IN    | en-IN-Neural2-D          | FEMALE   | 24,000 Hz\n",
      "en-IN    | en-IN-Standard-A         | FEMALE   | 24,000 Hz\n",
      "en-IN    | en-IN-Standard-A         | FEMALE   | 24,000 Hz\n",
      "en-IN    | en-IN-Standard-B         | MALE     | 24,000 Hz\n",
      "en-IN    | en-IN-Standard-B         | MALE     | 24,000 Hz\n",
      "en-IN    | en-IN-Standard-C         | MALE     | 24,000 Hz\n",
      "en-IN    | en-IN-Standard-C         | MALE     | 24,000 Hz\n",
      "en-IN    | en-IN-Standard-D         | FEMALE   | 24,000 Hz\n",
      "en-IN    | en-IN-Standard-D         | FEMALE   | 24,000 Hz\n",
      "en-IN    | en-IN-Wavenet-A          | FEMALE   | 24,000 Hz\n",
      "en-IN    | en-IN-Wavenet-B          | MALE     | 24,000 Hz\n",
      "en-IN    | en-IN-Wavenet-C          | MALE     | 24,000 Hz\n",
      "en-IN    | en-IN-Wavenet-D          | FEMALE   | 24,000 Hz\n",
      "en-US    | en-US-Neural2-A          | MALE     | 24,000 Hz\n",
      "en-US    | en-US-Neural2-C          | FEMALE   | 24,000 Hz\n",
      "en-US    | en-US-Neural2-D          | MALE     | 24,000 Hz\n",
      "en-US    | en-US-Neural2-E          | FEMALE   | 24,000 Hz\n",
      "en-US    | en-US-Neural2-F          | FEMALE   | 24,000 Hz\n",
      "en-US    | en-US-Neural2-G          | FEMALE   | 24,000 Hz\n",
      "en-US    | en-US-Neural2-H          | FEMALE   | 24,000 Hz\n",
      "en-US    | en-US-Neural2-I          | MALE     | 24,000 Hz\n",
      "en-US    | en-US-Neural2-J          | MALE     | 24,000 Hz\n",
      "en-US    | en-US-News-K             | FEMALE   | 24,000 Hz\n",
      "en-US    | en-US-News-L             | FEMALE   | 24,000 Hz\n",
      "en-US    | en-US-News-M             | MALE     | 24,000 Hz\n",
      "en-US    | en-US-News-N             | MALE     | 24,000 Hz\n",
      "en-US    | en-US-Polyglot-1         | MALE     | 24,000 Hz\n",
      "en-US    | en-US-Standard-A         | MALE     | 24,000 Hz\n",
      "en-US    | en-US-Standard-A         | MALE     | 24,000 Hz\n",
      "en-US    | en-US-Standard-B         | MALE     | 24,000 Hz\n",
      "en-US    | en-US-Standard-B         | MALE     | 24,000 Hz\n",
      "en-US    | en-US-Standard-C         | FEMALE   | 24,000 Hz\n",
      "en-US    | en-US-Standard-C         | FEMALE   | 24,000 Hz\n",
      "en-US    | en-US-Standard-D         | MALE     | 24,000 Hz\n",
      "en-US    | en-US-Standard-D         | MALE     | 24,000 Hz\n",
      "en-US    | en-US-Standard-E         | FEMALE   | 24,000 Hz\n",
      "en-US    | en-US-Standard-E         | FEMALE   | 24,000 Hz\n",
      "en-US    | en-US-Standard-F         | FEMALE   | 24,000 Hz\n",
      "en-US    | en-US-Standard-F         | FEMALE   | 24,000 Hz\n",
      "en-US    | en-US-Standard-G         | FEMALE   | 24,000 Hz\n",
      "en-US    | en-US-Standard-G         | FEMALE   | 24,000 Hz\n",
      "en-US    | en-US-Standard-H         | FEMALE   | 24,000 Hz\n",
      "en-US    | en-US-Standard-H         | FEMALE   | 24,000 Hz\n",
      "en-US    | en-US-Standard-I         | MALE     | 24,000 Hz\n",
      "en-US    | en-US-Standard-I         | MALE     | 24,000 Hz\n",
      "en-US    | en-US-Standard-J         | MALE     | 24,000 Hz\n",
      "en-US    | en-US-Standard-J         | MALE     | 24,000 Hz\n",
      "en-US    | en-US-Studio-M           | MALE     | 24,000 Hz\n",
      "en-US    | en-US-Studio-O           | FEMALE   | 24,000 Hz\n",
      "en-US    | en-US-Wavenet-A          | MALE     | 24,000 Hz\n",
      "en-US    | en-US-Wavenet-B          | MALE     | 24,000 Hz\n",
      "en-US    | en-US-Wavenet-C          | FEMALE   | 24,000 Hz\n",
      "en-US    | en-US-Wavenet-D          | MALE     | 24,000 Hz\n",
      "en-US    | en-US-Wavenet-E          | FEMALE   | 24,000 Hz\n",
      "en-US    | en-US-Wavenet-F          | FEMALE   | 24,000 Hz\n",
      "en-US    | en-US-Wavenet-G          | FEMALE   | 24,000 Hz\n",
      "en-US    | en-US-Wavenet-H          | FEMALE   | 24,000 Hz\n",
      "en-US    | en-US-Wavenet-I          | MALE     | 24,000 Hz\n",
      "en-US    | en-US-Wavenet-J          | MALE     | 24,000 Hz\n"
     ]
    }
   ],
   "source": [
    "list_voices(\"en\")\n"
   ]
  },
  {
   "cell_type": "markdown",
   "metadata": {},
   "source": [
    "## 6. Synthesize audio from text"
   ]
  },
  {
   "cell_type": "code",
   "execution_count": 20,
   "metadata": {},
   "outputs": [],
   "source": [
    "def text_to_wav(voice_name: str, text: str, out_file = None):\n",
    "    language_code = \"-\".join(voice_name.split(\"-\")[:2])\n",
    "    text_input = tts.SynthesisInput(text=text)\n",
    "    voice_params = tts.VoiceSelectionParams(\n",
    "        language_code=language_code, name=voice_name\n",
    "    )\n",
    "    audio_config = tts.AudioConfig(audio_encoding=tts.AudioEncoding.LINEAR16)\n",
    "\n",
    "    client = tts.TextToSpeechClient()\n",
    "    response = client.synthesize_speech(\n",
    "        input=text_input,\n",
    "        voice=voice_params,\n",
    "        audio_config=audio_config,\n",
    "    )\n",
    "    if out_file is None:\n",
    "        filename = f\"{base_dir}/{voice_name}.wav\"\n",
    "    else:\n",
    "        filename = f\"{base_dir}/{out_file}.wav\"\n",
    "    with open(filename, \"wb\") as out:\n",
    "        out.write(response.audio_content)\n",
    "        print(f'Generated speech saved to \"{filename}\"')\n"
   ]
  },
  {
   "cell_type": "code",
   "execution_count": 22,
   "metadata": {},
   "outputs": [
    {
     "name": "stdout",
     "output_type": "stream",
     "text": [
      "Generated speech saved to \"data/Google_tts/ask_the_whether.wav\"\n"
     ]
    }
   ],
   "source": [
    "output_file = \"ask_the_whether\"\n",
    "text_to_wav(\"en-US-Studio-O\", \"What make Vietnam the idea place for visit\",output_file)\n"
   ]
  },
  {
   "cell_type": "code",
   "execution_count": null,
   "metadata": {},
   "outputs": [],
   "source": []
  }
 ],
 "metadata": {
  "kernelspec": {
   "display_name": ".venv",
   "language": "python",
   "name": "python3"
  },
  "language_info": {
   "codemirror_mode": {
    "name": "ipython",
    "version": 3
   },
   "file_extension": ".py",
   "mimetype": "text/x-python",
   "name": "python",
   "nbconvert_exporter": "python",
   "pygments_lexer": "ipython3",
   "version": "3.8.10"
  }
 },
 "nbformat": 4,
 "nbformat_minor": 2
}
